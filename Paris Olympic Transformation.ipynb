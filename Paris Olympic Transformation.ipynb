{
 "cells": [
  {
   "cell_type": "code",
   "execution_count": 0,
   "metadata": {
    "application/vnd.databricks.v1+cell": {
     "cellMetadata": {
      "byteLimit": 2048000,
      "rowLimit": 10000
     },
     "inputWidgets": {},
     "nuid": "a9ca7d3c-1bd1-41f6-8556-793c4d7175c0",
     "showTitle": false,
     "title": ""
    }
   },
   "outputs": [],
   "source": [
    "from pyspark.sql.functions import col\n",
    "from pyspark.sql.types import IntegerType, DoubleType, BooleanType, DateType"
   ]
  },
  {
   "cell_type": "code",
   "execution_count": 0,
   "metadata": {
    "application/vnd.databricks.v1+cell": {
     "cellMetadata": {
      "byteLimit": 2048000,
      "rowLimit": 10000
     },
     "inputWidgets": {},
     "nuid": "56c7c332-e878-4869-81c9-bf208d1bcafd",
     "showTitle": false,
     "title": ""
    }
   },
   "outputs": [
    {
     "output_type": "execute_result",
     "data": {
      "text/plain": [
       "True"
      ]
     },
     "execution_count": 3,
     "metadata": {},
     "output_type": "execute_result"
    }
   ],
   "source": [
    "configs = {\"fs.azure.account.auth.type\": \"OAuth\",\n",
    "\"fs.azure.account.oauth.provider.type\": \"org.apache.hadoop.fs.azurebfs.oauth2.ClientCredsTokenProvider\",\n",
    "\"fs.azure.account.oauth2.client.id\": \"xxxxxxxxxxxx\",\n",
    "\"fs.azure.account.oauth2.client.secret\": 'xxxxxxxxxxxxxxxxx',\n",
    "\"fs.azure.account.oauth2.client.endpoint\": \"https://login.microsoftonline.com/xxxxxxxx/token\"}\n",
    "\n",
    "dbutils.fs.mount(\n",
    "source = \"abfss://paris-olympic-data@parisolympicdataaarush.dfs.core.windows.net\", # contrainer@storageacc\n",
    "mount_point = \"/mnt/parisolymic\",\n",
    "extra_configs = configs)\n"
   ]
  },
  {
   "cell_type": "code",
   "execution_count": 0,
   "metadata": {
    "application/vnd.databricks.v1+cell": {
     "cellMetadata": {
      "byteLimit": 2048000,
      "rowLimit": 10000
     },
     "inputWidgets": {},
     "nuid": "fff86685-3469-4587-8bf5-09b6c0914b7a",
     "showTitle": false,
     "title": ""
    }
   },
   "outputs": [
    {
     "output_type": "display_data",
     "data": {
      "text/html": [
       "<style scoped>\n",
       "  .table-result-container {\n",
       "    max-height: 300px;\n",
       "    overflow: auto;\n",
       "  }\n",
       "  table, th, td {\n",
       "    border: 1px solid black;\n",
       "    border-collapse: collapse;\n",
       "  }\n",
       "  th, td {\n",
       "    padding: 5px;\n",
       "  }\n",
       "  th {\n",
       "    text-align: left;\n",
       "  }\n",
       "</style><div class='table-result-container'><table class='table-result'><thead style='background-color: white'><tr><th>path</th><th>name</th><th>size</th><th>modificationTime</th></tr></thead><tbody><tr><td>dbfs:/mnt/parisolymic/raw-data/</td><td>raw-data/</td><td>0</td><td>1725596235000</td></tr><tr><td>dbfs:/mnt/parisolymic/transformed-data/</td><td>transformed-data/</td><td>0</td><td>1725596246000</td></tr></tbody></table></div>"
      ]
     },
     "metadata": {
      "application/vnd.databricks.v1+output": {
       "addedWidgets": {},
       "aggData": [],
       "aggError": "",
       "aggOverflow": false,
       "aggSchema": [],
       "aggSeriesLimitReached": false,
       "aggType": "",
       "arguments": {},
       "columnCustomDisplayInfos": {},
       "data": [
        [
         "dbfs:/mnt/parisolymic/raw-data/",
         "raw-data/",
         0,
         1725596235000
        ],
        [
         "dbfs:/mnt/parisolymic/transformed-data/",
         "transformed-data/",
         0,
         1725596246000
        ]
       ],
       "datasetInfos": [],
       "dbfsResultPath": null,
       "isJsonSchema": true,
       "metadata": {
        "isDbfsCommandResult": false
       },
       "overflow": false,
       "plotOptions": {
        "customPlotOptions": {},
        "displayType": "table",
        "pivotAggregation": null,
        "pivotColumns": null,
        "xColumns": null,
        "yColumns": null
       },
       "removedWidgets": [],
       "schema": [
        {
         "metadata": "{}",
         "name": "path",
         "type": "\"string\""
        },
        {
         "metadata": "{}",
         "name": "name",
         "type": "\"string\""
        },
        {
         "metadata": "{}",
         "name": "size",
         "type": "\"long\""
        },
        {
         "metadata": "{}",
         "name": "modificationTime",
         "type": "\"long\""
        }
       ],
       "type": "table"
      }
     },
     "output_type": "display_data"
    }
   ],
   "source": [
    "%fs\n",
    "ls \"/mnt/parisolymic\""
   ]
  },
  {
   "cell_type": "code",
   "execution_count": 0,
   "metadata": {
    "application/vnd.databricks.v1+cell": {
     "cellMetadata": {
      "byteLimit": 2048000,
      "rowLimit": 10000
     },
     "inputWidgets": {},
     "nuid": "006b5877-fa53-44d0-a650-56a82af9c2a9",
     "showTitle": false,
     "title": ""
    }
   },
   "outputs": [
    {
     "output_type": "execute_result",
     "data": {
      "text/html": [
       "\n",
       "            <div>\n",
       "                <p><b>SparkSession - hive</b></p>\n",
       "                \n",
       "        <div>\n",
       "            <p><b>SparkContext</b></p>\n",
       "\n",
       "            <p><a href=\"/?o=172872189060027#setting/sparkui/0907-090745-ppkxrqiu/driver-3572962578586589542\">Spark UI</a></p>\n",
       "\n",
       "            <dl>\n",
       "              <dt>Version</dt>\n",
       "                <dd><code>v3.5.0</code></dd>\n",
       "              <dt>Master</dt>\n",
       "                <dd><code>local[*, 4]</code></dd>\n",
       "              <dt>AppName</dt>\n",
       "                <dd><code>Databricks Shell</code></dd>\n",
       "            </dl>\n",
       "        </div>\n",
       "        \n",
       "            </div>\n",
       "        "
      ],
      "text/plain": [
       "<pyspark.sql.session.SparkSession at 0x7f654ad272b0>"
      ]
     },
     "execution_count": 5,
     "metadata": {},
     "output_type": "execute_result"
    }
   ],
   "source": [
    "spark"
   ]
  },
  {
   "cell_type": "code",
   "execution_count": 0,
   "metadata": {
    "application/vnd.databricks.v1+cell": {
     "cellMetadata": {
      "byteLimit": 2048000,
      "rowLimit": 10000
     },
     "inputWidgets": {},
     "nuid": "6b6ca405-6838-4515-85a7-ca77249653ef",
     "showTitle": false,
     "title": ""
    }
   },
   "outputs": [],
   "source": [
    "athletes = spark.read.format(\"csv\").option(\"header\",\"true\").option(\"inferSchema\",\"true\").load(\"/mnt/parisolymic/raw-data/athletes.csv\")\n",
    "coaches = spark.read.format(\"csv\").option(\"header\",\"true\").option(\"inferSchema\",\"true\").load(\"/mnt/parisolymic/raw-data/coaches.csv\")\n",
    "medals = spark.read.format(\"csv\").option(\"header\",\"true\").option(\"inferSchema\",\"true\").load(\"/mnt/parisolymic/raw-data/medals.csv\")\n",
    "teams = spark.read.format(\"csv\").option(\"header\",\"true\").option(\"inferSchema\",\"true\").load(\"/mnt/parisolymic/raw-data/teams.csv\")"
   ]
  },
  {
   "cell_type": "code",
   "execution_count": 0,
   "metadata": {
    "application/vnd.databricks.v1+cell": {
     "cellMetadata": {
      "byteLimit": 2048000,
      "rowLimit": 10000
     },
     "inputWidgets": {},
     "nuid": "fd03d67c-f498-47c3-82e7-5b8d08caa595",
     "showTitle": false,
     "title": ""
    }
   },
   "outputs": [
    {
     "output_type": "stream",
     "name": "stdout",
     "output_type": "stream",
     "text": [
      "+-------+-------+--------------------+---------------+--------------------+------+--------+------------+--------+------------+-----------+----------------+----------------+------+------+--------------------+--------------------+--------------------+-------------------+-------------+-------------------+-----------------+--------------------+--------------------+--------------------+--------------------+--------------------+--------------------+--------------------+--------------------+--------------------+--------------------+--------------------+--------------------+--------------------+--------------------+\n|   code|current|                name|     name_short|             name_tv|gender|function|country_code| country|country_long|nationality|nationality_long|nationality_code|height|weight|         disciplines|              events|          birth_date|        birth_place|birth_country|    residence_place|residence_country|            nickname|             hobbies|          occupation|           education|              family|                lang|               coach|              reason|                hero|           influence|          philosophy|  sporting_relatives|              ritual|        other_sports|\n+-------+-------+--------------------+---------------+--------------------+------+--------+------------+--------+------------+-----------+----------------+----------------+------+------+--------------------+--------------------+--------------------+-------------------+-------------+-------------------+-----------------+--------------------+--------------------+--------------------+--------------------+--------------------+--------------------+--------------------+--------------------+--------------------+--------------------+--------------------+--------------------+--------------------+--------------------+\n|1532872|   true|    ALEKSANYAN Artur|   ALEKSANYAN A|    Artur ALEKSANYAN|  Male| Athlete|         ARM| Armenia|     Armenia|    Armenia|         Armenia|             ARM|   0.0|   0.0|       ['Wrestling']|\"[\"\"Men's Greco-R...|          1991-10-21|             GYUMRI|      Armenia|             GYUMRI|          Armenia|          White Bear|Playing and watch...|             Athlete|Graduated from Sh...|Father, Gevorg Al...|Armenian, English...|Gevorg Aleksanyan...|He followed his f...|Footballer Zinedi...|His father, Gevor...|\"\"\"Wrestling is m...|                NULL|                NULL|                NULL|\n|1532873|   true|      AMOYAN Malkhas|       AMOYAN M|      Malkhas AMOYAN|  Male| Athlete|         ARM| Armenia|     Armenia|    Armenia|         Armenia|             ARM|   0.0|   0.0|       ['Wrestling']|\"[\"\"Men's Greco-R...|          1999-01-22|            YEREVAN|      Armenia|            YEREVAN|          Armenia|                NULL|                NULL|                NULL|                NULL|                NULL|            Armenian|                NULL|                NULL|                NULL|                NULL|\"\"\"To become a go...| you first have t...|        6 Oct 2018)\"|Uncle, Roman Amoy...|\n|1532874|   true|     GALSTYAN Slavik|     GALSTYAN S|     Slavik GALSTYAN|  Male| Athlete|         ARM| Armenia|     Armenia|    Armenia|         Armenia|             ARM|   0.0|   0.0|       ['Wrestling']|\"[\"\"Men's Greco-R...|          1996-12-21|               NULL|         NULL|            YEREVAN|          Armenia|                NULL|                NULL|                NULL|                NULL|                NULL|            Armenian|Personal: Martin ...|                NULL|                NULL|                NULL|                NULL|                NULL|                NULL|                NULL|\n|1532944|   true|   HARUTYUNYAN Arsen|  HARUTYUNYAN A|   Arsen HARUTYUNYAN|  Male| Athlete|         ARM| Armenia|     Armenia|    Armenia|         Armenia|             ARM|   0.0|   0.0|       ['Wrestling']|\"[\"\"Men's Freesty...|          1999-11-22|              MASIS|      Armenia|            YEREVAN|          Armenia|                NULL|                NULL|             Athlete|Graduated with a ...|Wife, Diana (marr...|            Armenian|National: Habetna...|While doing karat...|Wrestler Armen Na...|                NULL|“Nothing is impos...|                NULL|                NULL|                NULL|\n|1532945|   true|     TEVANYAN Vazgen|     TEVANYAN V|     Vazgen TEVANYAN|  Male| Athlete|         ARM| Armenia|     Armenia|    Armenia|         Armenia|             ARM|   0.0|   0.0|       ['Wrestling']|\"[\"\"Men's Freesty...|          1999-10-27|          POKR VEDI|      Armenia|               NULL|          Armenia|                NULL|                NULL|             Athlete|Studied at the Ar...|Wife, Sona (marri...|   Armenian, Russian|National: Habetna...|“My family did no...|                NULL|                NULL|                NULL|                NULL|                NULL|                NULL|\n|1532951|   true|       ARENAS Lorena|       ARENAS L|       Lorena ARENAS|Female| Athlete|         COL|Colombia|    Colombia|   Colombia|        Colombia|             COL| 162.0|   0.0|       ['Athletics']|\"[\"\"Women's 20km ...| 'Marathon Race W...|         1993-09-17|      PEREIRA|           Colombia|        MELBOURNE|           Australia|                NULL|                NULL|             Athlete|Physical Educatio...|Father, Jose Oton...|             Spanish|Personal: Brent V...|                NULL|Race walker Luis ...|                NULL|                NULL|                NULL|In competition sh...|\n|1533112|   true|     McKENZIE Ashley|     McKENZIE A|     Ashley McKENZIE|  Male| Athlete|         JAM| Jamaica|     Jamaica|    Jamaica|         Jamaica|             JAM|   0.0|   0.0|            ['Judo']|      ['Men -60 kg']|          1989-07-17|             LONDON|Great Britain|          CAMBERLEY|    Great Britain|             Bad Boy|               Music|             Athlete|                NULL|One daughter, Lan...|             English|Personal and Nati...|\"\"\"I was thrown o...|       25 Jun 2024)\"|Boxer Muhammad Al...|\"\"\"My coach Luke ...|       25 Jun 2024)\"|                NULL|                NULL|\n|1533136|   true|BASS BITTAYE Gina...|BASS BITTAYE GM|Gina Mariam BASS ...|Female| Athlete|         GAM|  Gambia|      Gambia|     Gambia|          Gambia|             GAM| 161.0|   0.0|       ['Athletics']|  \"[\"\"Women's 100m\"\"|  \"\"Women's 200m\"\"]\"|         1995-05-03|     TUBAKUTA|             Gambia|             NULL|                NULL|Earlier in her ca...|                NULL|Athlete, police o...|                NULL|Husband, Mustapha...|     English, French|Personal: Christo...|“I started runnin...|\"Sprinter Shelly-...| she is consisten...| 16 Jan 2023)</p>...| three fourth pla...|               2020)|\n|1533176|   true|     CAMARA Ebrahima|       CAMARA E|     Ebrahima CAMARA|  Male| Athlete|         GAM|  Gambia|      Gambia|     Gambia|          Gambia|             GAM| 178.0|   0.0|       ['Athletics']|  \"[\"\"Men's 100m\"\"]\"|          1996-09-18|            BUNDUNG|       Gambia|             ANGERS|           France|                NULL|Running, watching...|Athlete, prison o...|                NULL|Married. One daug...|Arabic, English, ...|Personal: Christo...|\"\"\"I love running...|        7 Jul 2024)\"|Sprinter Gina Mar...|Momodou Lamin Kuj...|\"\"\"What does not ...|        7 Jul 2024)\"|                NULL|\n|1533188|   true| RUEDA SANTOS Lizeth| RUEDA SANTOS L| Lizeth RUEDA SANTOS|Female| Athlete|         MEX|  Mexico|      Mexico|     Mexico|          Mexico|             MEX|   0.0|   0.0|       ['Triathlon']|\"[\"\"Women's Indiv...|          1994-03-07|        GUADALAJARA|       Mexico|             XALAPA|           Mexico|                NULL|                NULL|             Athlete|Studied Medicine ...|                NULL|             Spanish|Personal: Eugenio...|Was a competitive...|                NULL|                NULL|                NULL|                NULL|                NULL|Competed in marat...|\n|1533189|   true|TAPIA VIDAL Rosa ...| TAPIA VIDAL RM|Rosa Maria TAPIA ...|Female| Athlete|         MEX|  Mexico|      Mexico|     Mexico|          Mexico|             MEX|   0.0|   0.0|       ['Triathlon']|\"[\"\"Women's Indiv...|          1997-08-27|         HERMOSILLO|       Mexico|        GUADALAJARA|           Mexico|                NULL|                NULL|             Athlete|Nutrition - Unive...|                NULL|    English, Spanish|Luis Miguel Cháve...|She always liked ...|                NULL|                NULL|                NULL|                NULL|                NULL|                NULL|\n|1533190|   true|   GRAJALES Crisanto|     GRAJALES C|   Crisanto GRAJALES|  Male| Athlete|         MEX|  Mexico|      Mexico|     Mexico|          Mexico|             MEX|   0.0|   0.0|       ['Triathlon']|\"[\"\"Men's Individ...|          1987-05-06|             XALAPA|       Mexico|             XALAPA|           Mexico|Diamante Negro (B...|        Music, films|             Athlete|Sport Studies - U...|Father, Crisanto ...|             Spanish|Personal: Eugenio...|\"Both his parents...|       29 Jul 2016)\"|Athlete German Si...|                NULL|\"\"\"In triathlon t...|       29 Jul 2016)\"|                NULL|\n|1533208|   true|    MAAROUFOU Hachim|    MAAROUFOU H|    Hachim MAAROUFOU|  Male| Athlete|         COM| Comoros|     Comoros|    Comoros|         Comoros|             COM| 183.0|   0.0|       ['Athletics']|  \"[\"\"Men's 100m\"\"]\"|          1997-02-13|          MARSEILLE|       France|          MARSEILLE|           France|                NULL|                NULL|             Athlete|                NULL|                NULL|              French|Personal: Franck ...|\"Started training...|       17 Jul 2003)\"|                NULL|                NULL|                NULL|                NULL|                NULL|\n|1533209|   true|        SAADI Maesha|        SAADI M|        Maesha SAADI|Female| Athlete|         COM| Comoros|     Comoros|    Comoros|         Comoros|             COM|   0.0|   0.0|        ['Swimming']|\"[\"\"Women's 50m F...|          2007-01-16|             VIENNE|       France|SAINT-ROMAIN-EN-GAL|           France|                NULL|                NULL|    Athlete, student|                NULL|Fther, Abdou-Sala...|              French|Personal: Marc-Ol...|Recruited into th...|                NULL|                NULL|                NULL|                NULL|                NULL|                NULL|\n|1533230|   true|      DIOSDADO Nuria|     DIOSDADO N|      Nuria DIOSDADO|Female| Athlete|         MEX|  Mexico|      Mexico|     Mexico|          Mexico|             MEX|   0.0|   0.0|['Artistic Swimmi...|    ['Team', 'Duet']|          1990-08-22|        GUADALAJARA|       Mexico|        MEXICO CITY|           Mexico|\"Nutria (\"\"Otter\"...|Spending time wit...|Athlete, sport so...|Studied Business ...|Husband, Javier A...|             Spanish|National: Adriana...|\"Began artistic s...|        6 Jan 2020)\"|Spanish artistic ...|         Her parents|\"\"\"Let everything...| no matter how di...|                NULL|\n|1533231|   true|       JIMENEZ Joana|      JIMENEZ J|       Joana JIMENEZ|Female| Athlete|         MEX|  Mexico|      Mexico|     Mexico|          Mexico|             MEX|   0.0|   0.0|['Artistic Swimmi...|    ['Team', 'Duet']|          1993-08-19|ECATEPEC DE MORELOS|       Mexico|        MEXICO CITY|           Mexico|                 Joa|             Dancing|Athlete, sport so...|Studied undergrad...|      Brother, Jorge|             Spanish|National: Adriana...|\"Her parents enro...|              Mexico| the first team w...| 'Does that reall...|      at that moment| I wanted to be o...|                NULL|\n|1533232|   true|     SOBRINO Jessica|      SOBRINO J|     Jessica SOBRINO|Female| Athlete|         MEX|  Mexico|      Mexico|     Mexico|          Mexico|             MEX|   0.0|   0.0|['Artistic Swimmi...|            ['Team']|          1994-05-26|        MEXICO CITY|       Mexico|        MEXICO CITY|           Mexico|                NULL|Going to the movi...|             Athlete|Studied Business ...|      Sister, Pamela|             Spanish|National: Adriana...|Followed her sist...|                NULL|                NULL|                NULL|\"Uncle, Salvador ...| finished 11th in...|                NULL|\n|1533234|   true|      ALFEREZ Regina|      ALFEREZ R|      Regina ALFEREZ|Female| Athlete|         MEX|  Mexico|      Mexico|     Mexico|          Mexico|             MEX|   0.0|   0.0|['Artistic Swimmi...|            ['Team']|          1997-12-01|               NULL|         NULL|        MEXICO CITY|           Mexico|                NULL|Travel, photograp...|             Athlete|Studied at Tecmil...|                NULL|             Spanish|National: Adriana...|                NULL|                NULL|                NULL|                NULL|                NULL|                NULL|                NULL|\n|1533235|   true|   ARELLANO Fernanda|     ARELLANO F|   Fernanda ARELLANO|Female| Athlete|         MEX|  Mexico|      Mexico|     Mexico|          Mexico|             MEX|   0.0|   0.0|['Artistic Swimmi...|            ['Team']|          2002-02-28|               NULL|         NULL|        MEXICO CITY|           Mexico|                NULL|                NULL|    Athlete, student|Studies at the Un...| Partner, Iker Casas|             Spanish|National: Adriana...|Trained in swimmi...|                NULL|                NULL|                NULL|Partner, Iker Cas...|                NULL|                NULL|\n|1533237|   true|      TOSCANO Pamela|      TOSCANO P|      Pamela TOSCANO|Female| Athlete|         MEX|  Mexico|      Mexico|     Mexico|          Mexico|             MEX|   0.0|   0.0|['Artistic Swimmi...|            ['Team']|          2000-01-13|               NULL|         NULL|        GUADALAJARA|           Mexico|                NULL|        Choreography|Athlete, sport so...|Studied Business ...|                NULL|             Spanish|National: Adriana...|                NULL|                NULL|                NULL|                NULL|                NULL|                NULL|                NULL|\n+-------+-------+--------------------+---------------+--------------------+------+--------+------------+--------+------------+-----------+----------------+----------------+------+------+--------------------+--------------------+--------------------+-------------------+-------------+-------------------+-----------------+--------------------+--------------------+--------------------+--------------------+--------------------+--------------------+--------------------+--------------------+--------------------+--------------------+--------------------+--------------------+--------------------+--------------------+\nonly showing top 20 rows\n\n"
     ]
    }
   ],
   "source": [
    "athletes.show()"
   ]
  },
  {
   "cell_type": "code",
   "execution_count": 0,
   "metadata": {
    "application/vnd.databricks.v1+cell": {
     "cellMetadata": {
      "byteLimit": 2048000,
      "rowLimit": 10000
     },
     "inputWidgets": {},
     "nuid": "711a8fba-6a3e-49f0-82ef-f5a48a87d509",
     "showTitle": false,
     "title": ""
    }
   },
   "outputs": [
    {
     "output_type": "stream",
     "name": "stdout",
     "output_type": "stream",
     "text": [
      "root\n |-- code: integer (nullable = true)\n |-- current: boolean (nullable = true)\n |-- name: string (nullable = true)\n |-- name_short: string (nullable = true)\n |-- name_tv: string (nullable = true)\n |-- gender: string (nullable = true)\n |-- function: string (nullable = true)\n |-- country_code: string (nullable = true)\n |-- country: string (nullable = true)\n |-- country_long: string (nullable = true)\n |-- nationality: string (nullable = true)\n |-- nationality_long: string (nullable = true)\n |-- nationality_code: string (nullable = true)\n |-- height: double (nullable = true)\n |-- weight: double (nullable = true)\n |-- disciplines: string (nullable = true)\n |-- events: string (nullable = true)\n |-- birth_date: string (nullable = true)\n |-- birth_place: string (nullable = true)\n |-- birth_country: string (nullable = true)\n |-- residence_place: string (nullable = true)\n |-- residence_country: string (nullable = true)\n |-- nickname: string (nullable = true)\n |-- hobbies: string (nullable = true)\n |-- occupation: string (nullable = true)\n |-- education: string (nullable = true)\n |-- family: string (nullable = true)\n |-- lang: string (nullable = true)\n |-- coach: string (nullable = true)\n |-- reason: string (nullable = true)\n |-- hero: string (nullable = true)\n |-- influence: string (nullable = true)\n |-- philosophy: string (nullable = true)\n |-- sporting_relatives: string (nullable = true)\n |-- ritual: string (nullable = true)\n |-- other_sports: string (nullable = true)\n\n"
     ]
    }
   ],
   "source": [
    "athletes.printSchema()"
   ]
  },
  {
   "cell_type": "code",
   "execution_count": 0,
   "metadata": {
    "application/vnd.databricks.v1+cell": {
     "cellMetadata": {
      "byteLimit": 2048000,
      "rowLimit": 10000
     },
     "inputWidgets": {},
     "nuid": "6247aafd-2b1d-46c9-bd2c-0984f95c8da2",
     "showTitle": false,
     "title": ""
    }
   },
   "outputs": [
    {
     "output_type": "stream",
     "name": "stdout",
     "output_type": "stream",
     "text": [
      "+-------+-------+--------------------+------+---------------+--------+------------+---------+--------------------+-------------------+------+----------+\n|   code|current|                name|gender|       function|category|country_code|  country|        country_long|        disciplines|events|birth_date|\n+-------+-------+--------------------+------+---------------+--------+------------+---------+--------------------+-------------------+------+----------+\n|1533246|   true|      PEDRERO Ofelia|Female|          Coach|       C|         MEX|   Mexico|              Mexico|  Artistic Swimming|  Team|1988-03-28|\n|1535775|   true|    RADHI SHENAISHIL|  Male|     Head Coach|       C|         IRQ|     Iraq|                Iraq|           Football|   Men|1965-07-01|\n|1536055|   true| AFLAKIKHAMSEH Majid|  Male|          Coach|       C|         IRI|  IR Iran|Islamic Republic ...|          Taekwondo|  NULL|1973-08-26|\n|1536059|   true|     YOUSEFY Mehrdad|  Male|          Coach|       C|         IRI|  IR Iran|Islamic Republic ...|          Taekwondo|  NULL|1972-06-12|\n|1536060|   true|        MADDAH Minoo|Female|          Coach|       C|         IRI|  IR Iran|Islamic Republic ...|          Taekwondo|  NULL|1976-05-17|\n|1536328|   true|      LOFTUS Adriana|Female|          Coach|       C|         MEX|   Mexico|              Mexico|  Artistic Swimming|  Team|1958-06-28|\n|1538313|   true|    FERRARA Fernando|  Male|     Head Coach|       C|         ARG|Argentina|           Argentina|             Hockey|  NULL|1968-07-24|\n|1538315|   true|     GULLA Alejandra|Female|Assistant Coach|       C|         ARG|Argentina|           Argentina|             Hockey| Women|1977-07-04|\n|1538317|   true|    CAPURRO Santiago|  Male|Assistant Coach|       C|         ARG|Argentina|           Argentina|             Hockey|  NULL|1975-04-08|\n|1538745|   true|     RONCONI Mariano|  Male|     Head Coach|       C|         ARG|Argentina|           Argentina|             Hockey|  NULL|      NULL|\n|1538748|   true|     PAULON Ezequiel|  Male|Assistant Coach|       C|         ARG|Argentina|           Argentina|             Hockey|  NULL|      NULL|\n|1538751|   true|         VILA Matias|  Male|Assistant Coach|       C|         ARG|Argentina|           Argentina|             Hockey|  NULL|      NULL|\n|1539598|   true|KHEIRKHAH HAJIRAS...|  Male|          Coach|       C|         IRI|  IR Iran|Islamic Republic ...|Artistic Gymnastics|  NULL|1965-06-27|\n|1540258|   true|    DAVIS DIAZ David|  Male|          Coach|       C|         MEX|   Mexico|              Mexico|          Taekwondo|  NULL|1977-10-07|\n|1540259|   true|   MENDOZA MORA Abel|  Male|          Coach|       C|         MEX|   Mexico|              Mexico|          Taekwondo|  NULL|1988-02-26|\n|1540260|   true|VICTORIA ESPINOSA...|  Male|          Coach|       C|         MEX|   Mexico|              Mexico|          Taekwondo|  NULL|1985-02-01|\n|1540522|   true|    MILANO Guillermo|  Male|     Head Coach|       C|         ARG|Argentina|           Argentina|           Handball|   Men|1973-02-08|\n|1540638|   true| GOMEZ CORA Santiago|  Male|     Head Coach|       C|         ARG|Argentina|           Argentina|       Rugby Sevens|   Men|1978-07-25|\n|1540639|   true|    GRAVANO Leonardo|  Male|Assistant Coach|       C|         ARG|Argentina|           Argentina|       Rugby Sevens|   Men|1973-08-30|\n|1540840|   true|FILIORIANU Ana Luiza|Female|          Coach|       C|         ROU|  Romania|             Romania|Rhythmic Gymnastics|  NULL|1999-07-10|\n+-------+-------+--------------------+------+---------------+--------+------------+---------+--------------------+-------------------+------+----------+\nonly showing top 20 rows\n\n"
     ]
    }
   ],
   "source": [
    "coaches.show()"
   ]
  },
  {
   "cell_type": "code",
   "execution_count": 0,
   "metadata": {
    "application/vnd.databricks.v1+cell": {
     "cellMetadata": {
      "byteLimit": 2048000,
      "rowLimit": 10000
     },
     "inputWidgets": {},
     "nuid": "0e2f738b-1576-4b1b-9cb3-15a438de3cd5",
     "showTitle": false,
     "title": ""
    }
   },
   "outputs": [
    {
     "output_type": "stream",
     "name": "stdout",
     "output_type": "stream",
     "text": [
      "root\n |-- code: integer (nullable = true)\n |-- current: boolean (nullable = true)\n |-- name: string (nullable = true)\n |-- gender: string (nullable = true)\n |-- function: string (nullable = true)\n |-- category: string (nullable = true)\n |-- country_code: string (nullable = true)\n |-- country: string (nullable = true)\n |-- country_long: string (nullable = true)\n |-- disciplines: string (nullable = true)\n |-- events: string (nullable = true)\n |-- birth_date: date (nullable = true)\n\n"
     ]
    }
   ],
   "source": [
    "coaches.printSchema()"
   ]
  },
  {
   "cell_type": "code",
   "execution_count": 0,
   "metadata": {
    "application/vnd.databricks.v1+cell": {
     "cellMetadata": {
      "byteLimit": 2048000,
      "rowLimit": 10000
     },
     "inputWidgets": {},
     "nuid": "4c395bac-9f0f-487c-bc16-bee77229c4fe",
     "showTitle": false,
     "title": ""
    }
   },
   "outputs": [
    {
     "output_type": "stream",
     "name": "stdout",
     "output_type": "stream",
     "text": [
      "+------------+----------+----------+--------------------+------+------------+--------------------+----------+--------------------+-----------------+------------+----------------+--------------------+\n|  medal_type|medal_code|medal_date|                name|gender|  discipline|               event|event_type|           url_event|             code|country_code|         country|        country_long|\n+------------+----------+----------+--------------------+------+------------+--------------------+----------+--------------------+-----------------+------------+----------------+--------------------+\n|  Gold Medal|       1.0|2024-07-27|     Remco EVENEPOEL|     M|Cycling Road|Men's Individual ...|       ATH|/en/paris-2024/re...|          1903136|         BEL|         Belgium|             Belgium|\n|Silver Medal|       2.0|2024-07-27|       Filippo GANNA|     M|Cycling Road|Men's Individual ...|       ATH|/en/paris-2024/re...|          1923520|         ITA|           Italy|               Italy|\n|Bronze Medal|       3.0|2024-07-27|       Wout van AERT|     M|Cycling Road|Men's Individual ...|       ATH|/en/paris-2024/re...|          1903147|         BEL|         Belgium|             Belgium|\n|  Gold Medal|       1.0|2024-07-27|         Grace BROWN|     W|Cycling Road|Women's Individua...|       ATH|/en/paris-2024/re...|          1940173|         AUS|       Australia|           Australia|\n|Silver Medal|       2.0|2024-07-27|      Anna HENDERSON|     W|Cycling Road|Women's Individua...|       ATH|/en/paris-2024/re...|          1912525|         GBR|   Great Britain|       Great Britain|\n|Bronze Medal|       3.0|2024-07-27|        Chloe DYGERT|     W|Cycling Road|Women's Individua...|       ATH|/en/paris-2024/re...|          1955079|         USA|   United States|United States of ...|\n|  Gold Medal|       1.0|2024-07-27|               China|     W|      Diving|Women's Synchroni...|      TEAM|/en/paris-2024/re...|DIVW3MTEAM2-CHN01|         CHN|           China|People's Republic...|\n|Silver Medal|       2.0|2024-07-27|       United States|     W|      Diving|Women's Synchroni...|      TEAM|/en/paris-2024/re...|DIVW3MTEAM2-USA01|         USA|   United States|United States of ...|\n|Bronze Medal|       3.0|2024-07-27|       Great Britain|     W|      Diving|Women's Synchroni...|      TEAM|/en/paris-2024/re...|DIVW3MTEAM2-GBR01|         GBR|   Great Britain|       Great Britain|\n|  Gold Medal|       1.0|2024-07-27|           OH Sanguk|     M|     Fencing|Men's Sabre Indiv...|      HATH|/en/paris-2024/re...|          1927149|         KOR|           Korea|   Republic of Korea|\n|Silver Medal|       2.0|2024-07-27|       Fares FERJANI|     M|     Fencing|Men's Sabre Indiv...|      HATH|/en/paris-2024/re...|          1937783|         TUN|         Tunisia|             Tunisia|\n|Bronze Medal|       3.0|2024-07-27|        Luigi SAMELE|     M|     Fencing|Men's Sabre Indiv...|      HATH|/en/paris-2024/re...|          1924595|         ITA|           Italy|               Italy|\n|  Gold Medal|       1.0|2024-07-27| KONG Man Wai Vivian|     W|     Fencing|Women's Épée Indi...|      HATH|/en/paris-2024/re...|          1963262|         HKG|Hong Kong, China|    Hong Kong, China|\n|Silver Medal|       2.0|2024-07-27|Auriane MALLO-BRETON|     W|     Fencing|Women's Épée Indi...|      HATH|/en/paris-2024/re...|          1916183|         FRA|          France|              France|\n|Bronze Medal|       3.0|2024-07-27|       Eszter MUHARI|     W|     Fencing|Women's Épée Indi...|      HATH|/en/paris-2024/re...|          1946375|         HUN|         Hungary|             Hungary|\n|  Gold Medal|       1.0|2024-07-27|       Yeldos SMETOV|     M|        Judo|          Men -60 kg|      HATH|/en/paris-2024/re...|          1935408|         KAZ|      Kazakhstan|          Kazakhstan|\n|Silver Medal|       2.0|2024-07-27|       Luka MKHEIDZE|     M|        Judo|          Men -60 kg|      HATH|/en/paris-2024/re...|          1891304|         FRA|          France|              France|\n|Bronze Medal|       3.0|2024-07-27|      NAGAYAMA Ryuju|     M|        Judo|          Men -60 kg|      HATH|/en/paris-2024/re...|          1896752|         JPN|           Japan|               Japan|\n|Bronze Medal|       3.0|2024-07-27|  Francisco GARRIGOS|     M|        Judo|          Men -60 kg|      HATH|/en/paris-2024/re...|          1563544|         ESP|           Spain|               Spain|\n|  Gold Medal|       1.0|2024-07-27|     TSUNODA Natsumi|     W|        Judo|        Women -48 kg|      HATH|/en/paris-2024/re...|          1896735|         JPN|           Japan|               Japan|\n+------------+----------+----------+--------------------+------+------------+--------------------+----------+--------------------+-----------------+------------+----------------+--------------------+\nonly showing top 20 rows\n\n"
     ]
    }
   ],
   "source": [
    "medals.show()"
   ]
  },
  {
   "cell_type": "code",
   "execution_count": 0,
   "metadata": {
    "application/vnd.databricks.v1+cell": {
     "cellMetadata": {
      "byteLimit": 2048000,
      "rowLimit": 10000
     },
     "inputWidgets": {},
     "nuid": "00187f2f-2400-426c-8e48-ae55f3617cc7",
     "showTitle": false,
     "title": ""
    }
   },
   "outputs": [
    {
     "output_type": "stream",
     "name": "stdout",
     "output_type": "stream",
     "text": [
      "root\n |-- medal_type: string (nullable = true)\n |-- medal_code: double (nullable = true)\n |-- medal_date: date (nullable = true)\n |-- name: string (nullable = true)\n |-- gender: string (nullable = true)\n |-- discipline: string (nullable = true)\n |-- event: string (nullable = true)\n |-- event_type: string (nullable = true)\n |-- url_event: string (nullable = true)\n |-- code: string (nullable = true)\n |-- country_code: string (nullable = true)\n |-- country: string (nullable = true)\n |-- country_long: string (nullable = true)\n\n"
     ]
    }
   ],
   "source": [
    "medals.printSchema()"
   ]
  },
  {
   "cell_type": "code",
   "execution_count": 0,
   "metadata": {
    "application/vnd.databricks.v1+cell": {
     "cellMetadata": {
      "byteLimit": 2048000,
      "rowLimit": 10000
     },
     "inputWidgets": {},
     "nuid": "4d14c465-3c97-461b-aa76-14cade9b3c5d",
     "showTitle": false,
     "title": ""
    }
   },
   "outputs": [
    {
     "output_type": "stream",
     "name": "stdout",
     "output_type": "stream",
     "text": [
      "+-----------------+-------+--------------------+-----------+------------+--------------+--------------------+----------+----------------+------------+--------------------+-------+--------------------+------------+-------------+-----------+\n|             code|current|                team|team_gender|country_code|       country|        country_long|discipline|disciplines_code|      events|            athletes|coaches|      athletes_codes|num_athletes|coaches_codes|num_coaches|\n+-----------------+-------+--------------------+-----------+------------+--------------+--------------------+----------+----------------+------------+--------------------+-------+--------------------+------------+-------------+-----------+\n|ARCMTEAM3---CHN01|   true|People's Republic...|          M|         CHN|         China|People's Republic...|   Archery|             ARC|  Men's Team|['KAO Wenchao', '...|   NULL|['1913366', '1913...|         3.0|         NULL|       NULL|\n|ARCMTEAM3---COL01|   true|            Colombia|          M|         COL|      Colombia|            Colombia|   Archery|             ARC|  Men's Team|['ARCILA Santiago...|   NULL|['1935642', '1543...|         3.0|         NULL|       NULL|\n|ARCMTEAM3---FRA01|   true|              France|          M|         FRA|        France|              France|   Archery|             ARC|  Men's Team|['ADDIS Baptiste'...|   NULL|['1541270', '1541...|         3.0|         NULL|       NULL|\n|ARCMTEAM3---GBR01|   true|       Great Britain|          M|         GBR| Great Britain|       Great Britain|   Archery|             ARC|  Men's Team|['HALL Conor', 'H...|   NULL|['1560988', '1560...|         3.0|         NULL|       NULL|\n|ARCMTEAM3---IND01|   true|               India|          M|         IND|         India|               India|   Archery|             ARC|  Men's Team|['BOMMADEVARA Dhi...|   NULL|['1546108', '1546...|         3.0|         NULL|       NULL|\n|ARCMTEAM3---ITA01|   true|               Italy|          M|         ITA|         Italy|               Italy|   Archery|             ARC|  Men's Team|['MUSOLESI Federi...|   NULL|['1915456', '1915...|         3.0|         NULL|       NULL|\n|ARCMTEAM3---JPN01|   true|               Japan|          M|         JPN|         Japan|               Japan|   Archery|             ARC|  Men's Team|['FURUKAWA Takaha...|   NULL|['1890994', '1890...|         3.0|         NULL|       NULL|\n|ARCMTEAM3---KAZ01|   true|          Kazakhstan|          M|         KAZ|    Kazakhstan|          Kazakhstan|   Archery|             ARC|  Men's Team|['ABDULLIN Ilfat'...|   NULL|['1931570', '1560...|         3.0|         NULL|       NULL|\n|ARCMTEAM3---KOR01|   true|   Republic of Korea|          M|         KOR|         Korea|   Republic of Korea|   Archery|             ARC|  Men's Team|['KIM Je Deok', '...|   NULL|['1902130', '1902...|         3.0|         NULL|       NULL|\n|ARCMTEAM3---MEX01|   true|              Mexico|          M|         MEX|        Mexico|              Mexico|   Archery|             ARC|  Men's Team|['GRANDE Matias',...|   NULL|['1535430', '1536...|         3.0|         NULL|       NULL|\n|ARCMTEAM3---TPE01|   true|      Chinese Taipei|          M|         TPE|Chinese Taipei|      Chinese Taipei|   Archery|             ARC|  Men's Team|['LIN Zih-Siang',...|   NULL|['1564631', '1564...|         3.0|         NULL|       NULL|\n|ARCMTEAM3---TUR01|   true|             Türkiye|          M|         TUR|       Türkiye|             Türkiye|   Archery|             ARC|  Men's Team|['GAZOZ Mete', 'T...|   NULL|['1565000', '1565...|         3.0|         NULL|       NULL|\n|ARCWTEAM3---CHN01|   true|People's Republic...|          W|         CHN|         China|People's Republic...|   Archery|             ARC|Women's Team|['AN Qixuan', 'LI...|   NULL|['1913382', '1913...|         3.0|         NULL|       NULL|\n|ARCWTEAM3---FRA01|   true|              France|          W|         FRA|        France|              France|   Archery|             ARC|Women's Team|['BARBELIN Lisa',...|   NULL|['1541265', '1541...|         3.0|         NULL|       NULL|\n|ARCWTEAM3---GBR01|   true|       Great Britain|          W|         GBR| Great Britain|       Great Britain|   Archery|             ARC|Women's Team|['HEALEY Penny', ...|   NULL|['1560991', '1560...|         3.0|         NULL|       NULL|\n|ARCWTEAM3---GER01|   true|             Germany|          W|         GER|       Germany|             Germany|   Archery|             ARC|Women's Team|['BAUER Katharina...|   NULL|['1553257', '1553...|         3.0|         NULL|       NULL|\n|ARCWTEAM3---INA01|   true|           Indonesia|          W|         INA|     Indonesia|           Indonesia|   Archery|             ARC|Women's Team|['CHOIRUNISA Dian...|   NULL|['1913983', '1913...|         3.0|         NULL|       NULL|\n|ARCWTEAM3---IND01|   true|               India|          W|         IND|         India|               India|   Archery|             ARC|Women's Team|['BHAKAT Ankita',...|   NULL|['1546200', '1546...|         3.0|         NULL|       NULL|\n|ARCWTEAM3---KOR01|   true|   Republic of Korea|          W|         KOR|         Korea|   Republic of Korea|   Archery|             ARC|Women's Team|['JEON Hunyoung',...|   NULL|['1902121', '1902...|         3.0|         NULL|       NULL|\n|ARCWTEAM3---MAS01|   true|            Malaysia|          W|         MAS|      Malaysia|            Malaysia|   Archery|             ARC|Women's Team|['MASHAYIKH Syaqi...|   NULL|['1893596', '1893...|         3.0|         NULL|       NULL|\n+-----------------+-------+--------------------+-----------+------------+--------------+--------------------+----------+----------------+------------+--------------------+-------+--------------------+------------+-------------+-----------+\nonly showing top 20 rows\n\n"
     ]
    }
   ],
   "source": [
    "teams.show()"
   ]
  },
  {
   "cell_type": "code",
   "execution_count": 0,
   "metadata": {
    "application/vnd.databricks.v1+cell": {
     "cellMetadata": {
      "byteLimit": 2048000,
      "rowLimit": 10000
     },
     "inputWidgets": {},
     "nuid": "46697d30-3d92-4bbc-b831-eaa364f3453a",
     "showTitle": false,
     "title": ""
    }
   },
   "outputs": [
    {
     "output_type": "stream",
     "name": "stdout",
     "output_type": "stream",
     "text": [
      "root\n |-- code: string (nullable = true)\n |-- current: boolean (nullable = true)\n |-- team: string (nullable = true)\n |-- team_gender: string (nullable = true)\n |-- country_code: string (nullable = true)\n |-- country: string (nullable = true)\n |-- country_long: string (nullable = true)\n |-- discipline: string (nullable = true)\n |-- disciplines_code: string (nullable = true)\n |-- events: string (nullable = true)\n |-- athletes: string (nullable = true)\n |-- coaches: string (nullable = true)\n |-- athletes_codes: string (nullable = true)\n |-- num_athletes: string (nullable = true)\n |-- coaches_codes: string (nullable = true)\n |-- num_coaches: string (nullable = true)\n\n"
     ]
    }
   ],
   "source": [
    "teams.printSchema()"
   ]
  },
  {
   "cell_type": "code",
   "execution_count": 0,
   "metadata": {
    "application/vnd.databricks.v1+cell": {
     "cellMetadata": {
      "byteLimit": 2048000,
      "rowLimit": 10000
     },
     "inputWidgets": {},
     "nuid": "e456286b-45b3-4fa0-8f34-42eeda33ee1a",
     "showTitle": false,
     "title": ""
    }
   },
   "outputs": [
    {
     "output_type": "stream",
     "name": "stdout",
     "output_type": "stream",
     "text": [
      "+----------------+--------------------+\n|         Country|                name|\n+----------------+--------------------+\n|         Belgium|     Remco EVENEPOEL|\n|       Australia|         Grace BROWN|\n|           China|               China|\n|           Korea|           OH Sanguk|\n|Hong Kong, China| KONG Man Wai Vivian|\n|      Kazakhstan|       Yeldos SMETOV|\n|           Japan|     TSUNODA Natsumi|\n|          France|              France|\n|           China|             China 1|\n|   United States|       United States|\n|         Germany|      Lukas MAERTENS|\n|       Australia|           Australia|\n|       Australia|      Ariarne TITMUS|\n|           Korea|               Korea|\n|       Australia|         Jessica FOX|\n|          France|Pauline FERRAND P...|\n|           Japan|           KANO Koki|\n|   United States|          Lee KIEFER|\n|           Japan|          ABE Hifumi|\n|      Uzbekistan|  Diyora KELDIYOROVA|\n+----------------+--------------------+\nonly showing top 20 rows\n\n"
     ]
    }
   ],
   "source": [
    "top_gold_medal_countries = medals.filter(col(\"medal_type\") == \"Gold Medal\")\n",
    "top_gold_medal_countries.select(\"Country\",\"name\").show()"
   ]
  },
  {
   "cell_type": "code",
   "execution_count": 0,
   "metadata": {
    "application/vnd.databricks.v1+cell": {
     "cellMetadata": {
      "byteLimit": 2048000,
      "rowLimit": 10000
     },
     "inputWidgets": {},
     "nuid": "de438eca-52a8-4d3d-93f7-24799597a7c2",
     "showTitle": false,
     "title": ""
    }
   },
   "outputs": [],
   "source": [
    "athletes.repartition(1).write.mode(\"overwrite\").option(\"header\",'true').csv(\"/mnt/parisolymic/transformed-data/athletes\")\n",
    "coaches.repartition(1).write.mode(\"overwrite\").option(\"header\",'true').csv(\"/mnt/parisolymic/transformed-data/coaches\")\n",
    "medals.repartition(1).write.mode(\"overwrite\").option(\"header\",'true').csv(\"/mnt/parisolymic/transformed-data/medals\")\n",
    "teams.repartition(1).write.mode(\"overwrite\").option(\"header\",'true').csv(\"/mnt/parisolymic/transformed-data/teams\")\n"
   ]
  }
 ],
 "metadata": {
  "application/vnd.databricks.v1+notebook": {
   "dashboards": [],
   "environmentMetadata": {
    "base_environment": "",
    "client": "1"
   },
   "language": "python",
   "notebookMetadata": {
    "mostRecentlyExecutedCommandWithImplicitDF": {
     "commandId": 3829993006587837,
     "dataframes": [
      "_sqldf"
     ]
    },
    "pythonIndentUnit": 4
   },
   "notebookName": "Paris Olympic Transformation",
   "widgets": {}
  }
 },
 "nbformat": 4,
 "nbformat_minor": 0
}
